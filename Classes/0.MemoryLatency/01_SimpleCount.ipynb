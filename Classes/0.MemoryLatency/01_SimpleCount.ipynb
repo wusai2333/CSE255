{
 "cells": [
  {
   "cell_type": "markdown",
   "metadata": {
    "deletable": true,
    "editable": true,
    "run_control": {
     "frozen": false,
     "read_only": false
    },
    "slideshow": {
     "slide_type": "slide"
    }
   },
   "source": [
    "## Two ways to count words\n",
    "This notebook demonstrates two ways of counting words in a long text. A previous version of this notebook was based on the incorrect assumption that one of these methods is always faster. After correcting a bug, simple count is faster than Sort& Count.\n",
    "\n",
    "However, Sort and count is still relevant - it is faster when the text is too large to fit into a single machine. We will visit it again in a few classes when we use Map-Reduce in Spark to perform the same task.\n",
    "\n",
    "This notebook can be run without spark, using just Jupyter.\n",
    "\n",
    "### The task\n",
    "\n",
    "We are given a text file, here we are using Moby Dick by Herman Melville which can be downloaded from [here](http://faculty.washington.edu/stepp/courses/2004autumn/tcss143/lectures/files/2004-11-08/mobydick.txt).\n",
    "\n",
    "Our task is to read the file, separate it into words, make all words lower-case, and count the number of occurances of each word."
   ]
  },
  {
   "cell_type": "code",
   "execution_count": 10,
   "metadata": {
    "collapsed": false,
    "deletable": false,
    "editable": false,
    "nbgrader": {
     "checksum": "e631ecd58d1a3c069a66ec211d44abf0",
     "grade": false,
     "grade_id": "init_stuff",
     "locked": true,
     "schema_version": 1,
     "solution": false
    },
    "run_control": {
     "frozen": false,
     "read_only": false
    }
   },
   "outputs": [
    {
     "name": "stdout",
     "output_type": "stream",
     "text": [
      "/home/wusai/CSE255-DSE230/Classes/Tester\n"
     ]
    }
   ],
   "source": [
    "# initialization for grading\n",
    "import sys\n",
    "import os \n",
    "testPath = '/'.join(os.getcwd().split('/')[:-1]) + \"/Tester\"\n",
    "print testPath\n",
    "sys.path.insert(0, testPath )\n",
    "\n",
    "pickleFile = testPath+ \"/SimpleCount.pkl\""
   ]
  },
  {
   "cell_type": "code",
   "execution_count": 3,
   "metadata": {
    "collapsed": false,
    "deletable": true,
    "editable": true,
    "run_control": {
     "frozen": false,
     "read_only": false
    },
    "slideshow": {
     "slide_type": "skip"
    }
   },
   "outputs": [
    {
     "name": "stdout",
     "output_type": "stream",
     "text": [
      "Populating the interactive namespace from numpy and matplotlib\n"
     ]
    }
   ],
   "source": [
    "from string import lower,strip\n",
    "import re\n",
    "%pylab inline"
   ]
  },
  {
   "cell_type": "markdown",
   "metadata": {
    "deletable": true,
    "editable": true,
    "run_control": {
     "frozen": false,
     "read_only": false
    },
    "slideshow": {
     "slide_type": "skip"
    }
   },
   "source": [
    "### Reading in the file\n",
    "We read in the file, split it into words and create a list called `all` which contains all of the words in the document"
   ]
  },
  {
   "cell_type": "code",
   "execution_count": 4,
   "metadata": {
    "collapsed": false,
    "deletable": true,
    "editable": true,
    "run_control": {
     "frozen": false,
     "read_only": false
    }
   },
   "outputs": [
    {
     "name": "stdout",
     "output_type": "stream",
     "text": [
      "-rw-rw-r-- 1 wusai wusai 1257260 Apr 10 14:16 ../../Data/Moby-Dick.txt\n",
      "CPU times: user 40 ms, sys: 116 ms, total: 156 ms\n",
      "Wall time: 2.48 s\n"
     ]
    }
   ],
   "source": [
    "%%time\n",
    "import urllib\n",
    "data_dir='../../Data'\n",
    "filename='Moby-Dick.txt'\n",
    "\n",
    "f = urllib.urlretrieve(\"https://mas-dse-open.s3.amazonaws.com/\"+filename, data_dir+'/'+filename)\n",
    "\n",
    "# Check that the text file is where we expect it to be\n",
    "!ls -l $data_dir/$filename"
   ]
  },
  {
   "cell_type": "code",
   "execution_count": 7,
   "metadata": {
    "collapsed": false,
    "deletable": true,
    "editable": true,
    "run_control": {
     "frozen": false,
     "read_only": false
    },
    "slideshow": {
     "slide_type": "skip"
    }
   },
   "outputs": [
    {
     "name": "stdout",
     "output_type": "stream",
     "text": [
      "the book contains 221908 words\n",
      "['the', 'project', 'gutenberg', 'ebook', 'of', 'moby', 'dick', 'or', 'the', 'whale', 'by', 'herman', 'melville', 'this', 'ebook', 'is', 'for', 'the', 'use', 'of', 'anyone', 'anywhere', 'at', 'no', 'cost', 'and', 'with', 'almost', 'no', 'restrictions', 'whatsoever', 'you', 'may', 'copy', 'it', 'give', 'it', 'away', 'or', 're', 'use', 'it', 'under', 'the', 'terms', 'of', 'the', 'project', 'gutenberg', 'license', 'included', 'with', 'this', 'ebook', 'or', 'online', 'at', 'www', 'gutenberg', 'org', 'title', 'moby', 'dick', 'or', 'the', 'whale', 'author', 'herman', 'melville', 'last', 'updated', 'january', '3', '2009', 'posting', 'date', 'december', '25', '2008', 'ebook', '2701', 'release', 'date', 'june', '2001', 'language', 'english', 'start', 'of', 'this', 'project', 'gutenberg', 'ebook', 'moby', 'dick', 'or', 'the', 'whale', 'produced', 'by']\n"
     ]
    }
   ],
   "source": [
    "#%%time\n",
    "file=open(data_dir+'/'+filename,'r')\n",
    "\n",
    "all=[]\n",
    "for line in file.readlines():\n",
    "    line=lower(strip(line))\n",
    "    if len(line)==0:\n",
    "        continue\n",
    "    words=[w for w in re.split(r'\\W+',line) if len(w)>0]\n",
    "    #print line, words\n",
    "    all+=words\n",
    "print 'the book contains',len(all),'words'\n",
    "print all[:100]"
   ]
  },
  {
   "cell_type": "markdown",
   "metadata": {
    "deletable": true,
    "editable": true,
    "run_control": {
     "frozen": false,
     "read_only": false
    },
    "slideshow": {
     "slide_type": "slide"
    }
   },
   "source": [
    "### Simple Count\n",
    "First, lets try counting words using the most straight-forward approach. We create a dictionary `D` and then go through the list of words `all`. For each word we increment the corresponding entry in `D` if the word exists as a key in the dictionary, if it is not in the dictionary, we add it to the dictionary\n"
   ]
  },
  {
   "cell_type": "code",
   "execution_count": 8,
   "metadata": {
    "collapsed": false,
    "deletable": true,
    "editable": true,
    "run_control": {
     "frozen": false,
     "read_only": false
    },
    "slideshow": {
     "slide_type": "fragment"
    }
   },
   "outputs": [
    {
     "name": "stdout",
     "output_type": "stream",
     "text": [
      "CPU times: user 84 ms, sys: 20 ms, total: 104 ms\n",
      "Wall time: 93.1 ms\n"
     ]
    }
   ],
   "source": [
    "%%time\n",
    "def simple_count(list):\n",
    "    D={}\n",
    "    for w in list:\n",
    "        if w in D:\n",
    "            D[w]+=1\n",
    "        else:\n",
    "            D[w]=1\n",
    "    return D\n",
    "D=simple_count(all)"
   ]
  },
  {
   "cell_type": "markdown",
   "metadata": {
    "deletable": true,
    "editable": true,
    "run_control": {
     "frozen": false,
     "read_only": false
    }
   },
   "source": [
    "#### List the 10 most common words"
   ]
  },
  {
   "cell_type": "code",
   "execution_count": 9,
   "metadata": {
    "collapsed": false,
    "deletable": true,
    "editable": true,
    "run_control": {
     "frozen": false,
     "read_only": false
    },
    "slideshow": {
     "slide_type": "fragment"
    }
   },
   "outputs": [
    {
     "data": {
      "text/plain": [
       "[('the', 14620),\n",
       " ('of', 6732),\n",
       " ('and', 6502),\n",
       " ('a', 4799),\n",
       " ('to', 4706),\n",
       " ('in', 4230),\n",
       " ('that', 3100),\n",
       " ('it', 2536),\n",
       " ('his', 2530),\n",
       " ('i', 2127)]"
      ]
     },
     "execution_count": 9,
     "metadata": {},
     "output_type": "execute_result"
    }
   ],
   "source": [
    "S=sorted(D.items(),key=lambda d:d[1],reverse=True)\n",
    "S[:10]"
   ]
  },
  {
   "cell_type": "markdown",
   "metadata": {
    "deletable": true,
    "editable": true,
    "run_control": {
     "frozen": false,
     "read_only": false
    },
    "slideshow": {
     "slide_type": "slide"
    }
   },
   "source": [
    "### Sorted count\n",
    "Next we show a different way to count. Sort the words alphabetically. Then, when we iterate through the sorted list, all of the occurances of any word appear consecutively, allowing us to count the number of occurances of one word at a time. This counter is added to the dictionary when this element of the list is different than the previous one."
   ]
  },
  {
   "cell_type": "code",
   "execution_count": 11,
   "metadata": {
    "collapsed": false,
    "deletable": true,
    "editable": true,
    "run_control": {
     "frozen": false,
     "read_only": false
    },
    "slideshow": {
     "slide_type": "subslide"
    }
   },
   "outputs": [
    {
     "name": "stdout",
     "output_type": "stream",
     "text": [
      "sort time= 160.2 ms, count time= 31.1 ms\n",
      "CPU times: user 192 ms, sys: 4 ms, total: 196 ms\n",
      "Wall time: 195 ms\n"
     ]
    }
   ],
   "source": [
    "%%time\n",
    "from time import time\n",
    "def sort_count(list):\n",
    "    t0=time()\n",
    "    S=sorted(list)\n",
    "    t1=time()\n",
    "    D={}\n",
    "    current=''\n",
    "    count=0\n",
    "    for w in S:\n",
    "        if current==w:\n",
    "            count+=1\n",
    "        else:\n",
    "            if current!='':\n",
    "                D[current]=count\n",
    "            count=1\n",
    "            current=w\n",
    "    t2=time()\n",
    "    return D,t1-t0,t2-t1\n",
    "D,sort_time,count_time=sort_count(all)\n",
    "print 'sort time= %5.1f ms, count time=%5.1f ms'%(1000*sort_time,1000*count_time)"
   ]
  },
  {
   "cell_type": "markdown",
   "metadata": {
    "deletable": true,
    "editable": true,
    "run_control": {
     "frozen": false,
     "read_only": false
    },
    "slideshow": {
     "slide_type": "subslide"
    }
   },
   "source": [
    "### Conclusions\n",
    "We have showed and compared two methods for counting workds: simple count and sorted count. The size of the text here is sufficiently small that the wholetext can easily fit in main memory, or even in L2 Cache. Therefor there is no advantage to sorted count.\n",
    "\n",
    "We will later see that when the text is too large to fit into the memory of a single machine, sorted count is faster than simple count."
   ]
  },
  {
   "cell_type": "markdown",
   "metadata": {
    "deletable": true,
    "editable": true,
    "run_control": {
     "frozen": false,
     "read_only": false
    }
   },
   "source": [
    "## Exercise 1 \n",
    "\n",
    "A `k`-mer is a sequence of `k` consecutive words. \n",
    "\n",
    "For example, the `3`-mers in the line `you are my sunshine my only sunshine` are\n",
    "\n",
    "* `you are my`\n",
    "* `are my sunshine`\n",
    "* `my sunshine my`\n",
    "* `sunshine my only`\n",
    "* `my only sunsine`\n",
    "\n",
    "For the sake of simplicity we consider only the `k`-mers that appear in a single line. In other words, we ignore `k`-mers that span more than one line.\n",
    "\n",
    "Write a function **compute_kmers**, to return the list of `k`-mers in a given text for a given `k`.\n",
    "\n",
    "######  <span style=\"color:blue\">Code:</span>\n",
    "```python\n",
    "text = ['you are my sunshine my only sunshine']\n",
    "compute_kmers(text,3)\n",
    "```\n",
    "######  <span style=\"color:magenta\">Output:</span>\n",
    "['you are my', 'are my sunshine', 'my sunshine my', 'sunshine my only', 'my only sunsine']"
   ]
  },
  {
   "cell_type": "code",
   "execution_count": 40,
   "metadata": {
    "collapsed": false,
    "deletable": true,
    "editable": true,
    "run_control": {
     "frozen": false,
     "read_only": false
    }
   },
   "outputs": [],
   "source": [
    "def compute_kmers(text,k):\n",
    "    kmers = []\n",
    "    for line in text:\n",
    "        line = line.split()\n",
    "        for i in xrange(len(line)-k+1):\n",
    "            s = ' '.join(line[i:i+k])\n",
    "            kmers.append(s)\n",
    "    # your implementation goes here\n",
    "    return kmers"
   ]
  },
  {
   "cell_type": "code",
   "execution_count": 41,
   "metadata": {
    "collapsed": false,
    "deletable": false,
    "editable": false,
    "nbgrader": {
     "checksum": "8f9f57cc134f6348c414ce12d0de394b",
     "grade": true,
     "grade_id": "ex1",
     "locked": true,
     "points": 1,
     "schema_version": 1,
     "solution": false
    },
    "run_control": {
     "frozen": false,
     "read_only": false
    }
   },
   "outputs": [
    {
     "name": "stdout",
     "output_type": "stream",
     "text": [
      "Correct Output: ['coordinating conjunctions', 'conjunctions are', 'are useful', 'useful for', 'for connecting', 'connecting sentences', 'sentences but', 'but compound', 'compound sentences', 'sentences often', 'often are', 'are overused', 'while coordinating', 'coordinating conjunctions', 'conjunctions can', 'can indicate', 'indicate some', 'some type', 'type of', 'of relationship', 'relationship between', 'between the', 'the two', 'two independent', 'independent clauses', 'clauses in', 'in the', 'the sentence', 'sentence they', 'they sometimes', 'sometimes do', 'do not', 'not indicate', 'indicate much', 'much of', 'of a', 'a relationship']\n",
      "Great Job!\n"
     ]
    }
   ],
   "source": [
    "import SimpleCount\n",
    "SimpleCount.exercise0_1(pickleFile, compute_kmers)"
   ]
  },
  {
   "cell_type": "markdown",
   "metadata": {
    "deletable": true,
    "editable": true,
    "run_control": {
     "frozen": false,
     "read_only": false
    }
   },
   "source": [
    "## Exercise 2\n",
    "\n",
    "Given a list of k-mers, write a function **count_kmers**, to return the dictionary with key as `k`-mer and value as the number of times it has occurred (the count) in the input list.\n",
    "\n",
    "######  <span style=\"color:blue\">Code:</span>\n",
    "```python\n",
    "kmers = ['you are my', 'are my sunshine', 'my sunshine my', 'sunshine my only', 'my only sunshine']\n",
    "count_kmers(kmers)\n",
    "```\n",
    "######  <span style=\"color:magenta\">Output:</span>\n",
    "\n",
    "{'you are my' : 1, 'are my sunshine' : 1, 'my sunshine my' : 1, 'sunshine my only' : 1, 'my only sunsine' : 1}"
   ]
  },
  {
   "cell_type": "code",
   "execution_count": 42,
   "metadata": {
    "collapsed": true,
    "deletable": true,
    "editable": true,
    "run_control": {
     "frozen": false,
     "read_only": false
    }
   },
   "outputs": [],
   "source": [
    "def count_kmers(kmers):\n",
    "    kmers_count = dict()\n",
    "    for km in kmers:\n",
    "        if km in kmers_count:\n",
    "            kmers_count[km]+=1\n",
    "        else:\n",
    "            kmers_count[km] = 1\n",
    "    # your implementation goes here \n",
    "    return kmers_count"
   ]
  },
  {
   "cell_type": "code",
   "execution_count": 43,
   "metadata": {
    "collapsed": false,
    "deletable": false,
    "editable": false,
    "nbgrader": {
     "checksum": "c663a52b9b63c8ca67e161775e42f2bf",
     "grade": true,
     "grade_id": "ex2",
     "locked": true,
     "points": 1,
     "schema_version": 1,
     "solution": false
    },
    "run_control": {
     "frozen": false,
     "read_only": false
    }
   },
   "outputs": [
    {
     "name": "stdout",
     "output_type": "stream",
     "text": [
      "Correct Output: {'sometimes do': 1, 'do not': 1, 'two independent': 1, 'conjunctions are': 1, 'much of': 1, 'but compound': 1, 'connecting sentences': 1, 'indicate some': 1, 'compound sentences': 1, 'between the': 1, 'coordinating conjunctions': 2, 'clauses in': 1, 'are useful': 1, 'independent clauses': 1, 'not indicate': 1, 'the sentence': 1, 'often are': 1, 'useful for': 1, 'relationship between': 1, 'type of': 1, 'conjunctions can': 1, 'of a': 1, 'some type': 1, 'sentences but': 1, 'indicate much': 1, 'in the': 1, 'sentence they': 1, 'while coordinating': 1, 'can indicate': 1, 'the two': 1, 'a relationship': 1, 'of relationship': 1, 'they sometimes': 1, 'for connecting': 1, 'sentences often': 1, 'are overused': 1}\n",
      "Great Job!\n"
     ]
    }
   ],
   "source": [
    "import SimpleCount\n",
    "SimpleCount.exercise0_2(pickleFile, count_kmers)"
   ]
  },
  {
   "cell_type": "markdown",
   "metadata": {
    "deletable": true,
    "editable": true,
    "run_control": {
     "frozen": false,
     "read_only": false
    }
   },
   "source": [
    "## Exercise 3 \n",
    "\n",
    "Given the dictionary of k-mer counts from exercise 2, write a function **sort_counts**, to sort the k-mers in descending order by its count. Return a list of tuples. \n",
    "\n",
    "* `Each tuple is of the form (kmer, count).`\n",
    "* `If two k-mers have same count, then sort them lexicographically.`\n",
    "    \n",
    "######  <span style=\"color:blue\">Code:</span>\n",
    "```python\n",
    "kmers_counts =  {'you are my' : 1, 'are my sunshine' : 1, 'my sunshine my' : 1, 'sunshine my only' : 1, 'my only sunsine' : 1}\n",
    "sort_counts(kmers_counts)\n",
    "```\n",
    "######  <span style=\"color:magenta\">Output:</span>\n",
    "[('are my sunshine', 1) , ('my only sunsine' , 1) , ('my sunshine my', 1), ('sunshine my only', 1) , ('you are my', 1)]"
   ]
  },
  {
   "cell_type": "code",
   "execution_count": 68,
   "metadata": {
    "collapsed": true,
    "deletable": true,
    "editable": true,
    "run_control": {
     "frozen": false,
     "read_only": false
    }
   },
   "outputs": [],
   "source": [
    "def sort_counts(kmers_counts):\n",
    "    sorted_counts = sorted(kmers_counts.items(), key = lambda (k, v): (-v, k))\n",
    "    return sorted_counts"
   ]
  },
  {
   "cell_type": "code",
   "execution_count": 69,
   "metadata": {
    "collapsed": false,
    "deletable": false,
    "editable": false,
    "nbgrader": {
     "checksum": "78decc89af7aa96d6c33322364dca208",
     "grade": true,
     "grade_id": "ex3",
     "locked": true,
     "points": 1,
     "schema_version": 1,
     "solution": false
    },
    "run_control": {
     "frozen": false,
     "read_only": false
    }
   },
   "outputs": [
    {
     "name": "stdout",
     "output_type": "stream",
     "text": [
      "Correct Output: [('coordinating conjunctions', 2), ('a relationship', 1), ('are overused', 1), ('are useful', 1), ('between the', 1), ('but compound', 1), ('can indicate', 1), ('clauses in', 1), ('compound sentences', 1), ('conjunctions are', 1), ('conjunctions can', 1), ('connecting sentences', 1), ('do not', 1), ('for connecting', 1), ('in the', 1), ('independent clauses', 1), ('indicate much', 1), ('indicate some', 1), ('much of', 1), ('not indicate', 1), ('of a', 1), ('of relationship', 1), ('often are', 1), ('relationship between', 1), ('sentence they', 1), ('sentences but', 1), ('sentences often', 1), ('some type', 1), ('sometimes do', 1), ('the sentence', 1), ('the two', 1), ('they sometimes', 1), ('two independent', 1), ('type of', 1), ('useful for', 1), ('while coordinating', 1)]\n",
      "Great Job!\n"
     ]
    }
   ],
   "source": [
    "import SimpleCount\n",
    "SimpleCount.exercise0_3(pickleFile, sort_counts)"
   ]
  },
  {
   "cell_type": "markdown",
   "metadata": {
    "collapsed": true,
    "deletable": true,
    "editable": true,
    "run_control": {
     "frozen": false,
     "read_only": false
    }
   },
   "source": [
    "## Exercise 4 \n",
    "\n",
    "Given a list of lines, Write a function, to return the list of tuples containing top `n` k-mers with its count from the given text for a given n, k.\n",
    "\n",
    "\n",
    "######  <span style=\"color:blue\">Code:</span>\n",
    "```python\n",
    "n=2\n",
    "k=3\n",
    "text = ['you are my sunshine my only sunsine']\n",
    "get_top_n_kmers(text,n,k)\n",
    "```\n",
    "######  <span style=\"color:magenta\">Output:</span>\n",
    "    [('are my sunshine', 1) , ('my only sunsine' , 1)]"
   ]
  },
  {
   "cell_type": "code",
   "execution_count": 70,
   "metadata": {
    "collapsed": true,
    "deletable": true,
    "editable": true,
    "run_control": {
     "frozen": false,
     "read_only": false
    }
   },
   "outputs": [],
   "source": [
    "def get_top_n_kmers(text,n,k):\n",
    "    kmers = compute_kmers(text,k)\n",
    "    kmers_count = count_kmers(kmers)\n",
    "    sorted_counts = sort_counts(kmers_count)\n",
    "    #SOLUTION BEGINS\n",
    "    top_n_kmers = sorted_counts[:n]\n",
    "    #SOLUTION ENDS\n",
    "    print 'most common %d-mers\\n'%k,'\\n'.join(['%s:\\t%d'%c for c in top_n_kmers])\n",
    "    return top_n_kmers"
   ]
  },
  {
   "cell_type": "code",
   "execution_count": 71,
   "metadata": {
    "collapsed": false,
    "deletable": false,
    "editable": false,
    "nbgrader": {
     "checksum": "58f7e46e05544a48dc046fb539ca0b1e",
     "grade": true,
     "grade_id": "ex4",
     "locked": true,
     "points": 1,
     "schema_version": 1,
     "solution": false
    },
    "run_control": {
     "frozen": false,
     "read_only": false
    }
   },
   "outputs": [
    {
     "name": "stdout",
     "output_type": "stream",
     "text": [
      "most common 2-mers\n",
      "coordinating conjunctions:\t2\n",
      "a relationship:\t1\n",
      "are overused:\t1\n",
      "are useful:\t1\n",
      "between the:\t1\n",
      "Correct Output: [('coordinating conjunctions', 2), ('a relationship', 1), ('are overused', 1), ('are useful', 1), ('between the', 1)]\n",
      "Great Job!\n"
     ]
    }
   ],
   "source": [
    "import SimpleCount\n",
    "SimpleCount.exercise0_4(pickleFile, get_top_n_kmers)"
   ]
  }
 ],
 "metadata": {
  "anaconda-cloud": {},
  "hide_input": false,
  "kernelspec": {
   "display_name": "Python 2",
   "language": "python",
   "name": "python2"
  },
  "language_info": {
   "codemirror_mode": {
    "name": "ipython",
    "version": 2
   },
   "file_extension": ".py",
   "mimetype": "text/x-python",
   "name": "python",
   "nbconvert_exporter": "python",
   "pygments_lexer": "ipython2",
   "version": "2.7.13"
  },
  "toc": {
   "colors": {
    "hover_highlight": "#DAA520",
    "running_highlight": "#FF0000",
    "selected_highlight": "#FFD700"
   },
   "moveMenuLeft": true,
   "nav_menu": {
    "height": "190px",
    "width": "252px"
   },
   "navigate_menu": true,
   "number_sections": true,
   "sideBar": true,
   "threshold": 4,
   "toc_cell": false,
   "toc_section_display": "block",
   "toc_window_display": true,
   "widenNotebook": false
  }
 },
 "nbformat": 4,
 "nbformat_minor": 0
}
